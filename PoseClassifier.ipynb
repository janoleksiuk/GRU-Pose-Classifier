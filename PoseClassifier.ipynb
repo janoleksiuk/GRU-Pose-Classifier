{
 "cells": [
  {
   "cell_type": "code",
   "execution_count": 76,
   "id": "b5084268",
   "metadata": {},
   "outputs": [
    {
     "name": "stdout",
     "output_type": "stream",
     "text": [
      "Using device: cuda\n"
     ]
    }
   ],
   "source": [
    "# Imports\n",
    "import torch\n",
    "import torch.nn as nn\n",
    "import torch.optim as optim\n",
    "import matplotlib.pyplot as plt\n",
    "from sklearn.metrics import confusion_matrix, ConfusionMatrixDisplay, accuracy_score\n",
    "\n",
    "from datasets import get_dataloader\n",
    "from models import PoseGRU\n",
    "\n",
    "device = torch.device(\"cuda\" if torch.cuda.is_available() else \"cpu\")\n",
    "print(\"Using device:\", device)"
   ]
  },
  {
   "cell_type": "code",
   "execution_count": null,
   "id": "41022759",
   "metadata": {},
   "outputs": [
    {
     "name": "stdout",
     "output_type": "stream",
     "text": [
      "Batch X: torch.Size([32, 30, 102])\n",
      "Batch y: torch.Size([32])\n"
     ]
    }
   ],
   "source": [
    "# Data loaders\n",
    "train_loader = get_dataloader(\"data/splits/train.npz\", batch_size=32, shuffle=True)\n",
    "val_loader = get_dataloader(\"data/splits/val.npz\", batch_size=32, shuffle=False)\n",
    "test_loader = get_dataloader(\"data/splits/test.npz\", batch_size=32, shuffle=False)\n",
    "\n",
    "# Loggign batch size\n",
    "X_batch, y_batch = next(iter(train_loader))\n",
    "print(\"Batch X:\", X_batch.shape)\n",
    "print(\"Batch y:\", y_batch.shape)"
   ]
  }
 ],
 "metadata": {
  "kernelspec": {
   "display_name": "Python (myenv)",
   "language": "python",
   "name": "myenv"
  },
  "language_info": {
   "codemirror_mode": {
    "name": "ipython",
    "version": 3
   },
   "file_extension": ".py",
   "mimetype": "text/x-python",
   "name": "python",
   "nbconvert_exporter": "python",
   "pygments_lexer": "ipython3",
   "version": "3.8.10"
  }
 },
 "nbformat": 4,
 "nbformat_minor": 5
}
